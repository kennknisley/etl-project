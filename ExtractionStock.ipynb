{
 "cells": [
  {
   "cell_type": "code",
   "execution_count": 15,
   "metadata": {},
   "outputs": [],
   "source": [
    "import os\n",
    "import glob\n",
    "import pandas as pd\n",
    "import pymongo\n",
    "import json\n",
    "import numpy as np"
   ]
  },
  {
   "cell_type": "markdown",
   "metadata": {},
   "source": [
    "## Extract Stocks"
   ]
  },
  {
   "cell_type": "code",
   "execution_count": 2,
   "metadata": {},
   "outputs": [],
   "source": [
    "#Get list of stock names\n",
    "os.listdir(\"../etl-project/RawStock\")\n",
    "stock_filename = os.listdir(\"../etl-project/RawStock\")\n"
   ]
  },
  {
   "cell_type": "code",
   "execution_count": 3,
   "metadata": {},
   "outputs": [],
   "source": [
    "stock_data = [pd.read_csv(f'../etl-project/RawStock/{file}') for file in stock_filename]"
   ]
  },
  {
   "cell_type": "code",
   "execution_count": 4,
   "metadata": {},
   "outputs": [
    {
     "name": "stdout",
     "output_type": "stream",
     "text": [
      "['ibm.us.txt', 'ko.us.txt', 'intc.us.txt', 'wmt.us.txt', 'mcd.us.txt', 'nke.us.txt', 'msft.us.txt', 'xom.us.txt', 'ba.us.txt', 'jpm.us.txt', 'wba.us.txt', 'v.us.txt', 'utx.us.txt', 'dis.us.txt', 'aapl.us.txt', 'mmm.us.txt', 'mrk.us.txt', 'gs.us.txt', 'unh.us.txt', 'hd.us.txt', 'jnj.us.txt', 'csco.us.txt', 'cvx.us.txt', 'vz.us.txt', 'cat.us.txt', 'trv.us.txt', 'axp.us.txt', 'pg.us.txt', 'pfe.us.txt']\n"
     ]
    }
   ],
   "source": [
    "print(stock_filename)"
   ]
  },
  {
   "cell_type": "markdown",
   "metadata": {},
   "source": [
    "## Transform Stocks "
   ]
  },
  {
   "cell_type": "code",
   "execution_count": 5,
   "metadata": {},
   "outputs": [
    {
     "data": {
      "text/plain": [
       "['aapl',\n",
       " 'axp',\n",
       " 'ba',\n",
       " 'cat',\n",
       " 'csco',\n",
       " 'cvx',\n",
       " 'dis',\n",
       " 'gs',\n",
       " 'hd',\n",
       " 'ibm',\n",
       " 'intc',\n",
       " 'jnj',\n",
       " 'jpm',\n",
       " 'ko',\n",
       " 'mcd',\n",
       " 'mmm',\n",
       " 'mrk',\n",
       " 'msft',\n",
       " 'nke',\n",
       " 'pfe',\n",
       " 'pg',\n",
       " 'trv',\n",
       " 'unh',\n",
       " 'utx',\n",
       " 'v',\n",
       " 'vz',\n",
       " 'wba',\n",
       " 'wmt',\n",
       " 'xom']"
      ]
     },
     "execution_count": 5,
     "metadata": {},
     "output_type": "execute_result"
    }
   ],
   "source": [
    "clean_ticker = [ticker[:-7] for ticker in stock_filename]\n",
    "clean_ticker.sort()\n"
   ]
  },
  {
   "cell_type": "code",
   "execution_count": 6,
   "metadata": {},
   "outputs": [],
   "source": [
    "stock_company = {\n",
    "    \"Ticker\":clean_ticker,\n",
    "    \"Company Name\": [\"Apple\",\"American Express\",\"Boeing\",\"Caterpillar\",\"Cisco\",\"Chevron\",\"Disney\",\"Goldman Sachs\",\"Home Depot\",\"IBM\",\"Intel\",\"Johnson & Johnson\",\"JP Morgan Chase\",\"Coca-Cola\",\"McDonalds\",\"3M\",\"Merck\",\"Microsoft\",\"Nike\",\"Pfizer\",\"Proctor & Gamble\",\"Travelers Companies\",\"United Health\",\"United Technologies\",\"Visa\",\"Verizon\",\"Walgreens\",\"Walmart\",\"Exxon Mobil\"]\n",
    "}\n",
    "\n",
    "stock_company = pd.DataFrame(stock_company)"
   ]
  },
  {
   "cell_type": "code",
   "execution_count": 7,
   "metadata": {},
   "outputs": [],
   "source": [
    "for x in np.arange(len(stock_data)):\n",
    "    stock_data[x][\"Ticker\"] = clean_ticker[x]"
   ]
  },
  {
   "cell_type": "code",
   "execution_count": 8,
   "metadata": {},
   "outputs": [],
   "source": [
    "stocks = pd.concat(stock_data, axis=0)"
   ]
  },
  {
   "cell_type": "code",
   "execution_count": 9,
   "metadata": {},
   "outputs": [],
   "source": [
    "stocks = stocks[[\"Ticker\",\"Date\",\"Open\",\"Close\"]]"
   ]
  },
  {
   "cell_type": "code",
   "execution_count": 10,
   "metadata": {},
   "outputs": [],
   "source": [
    "stocks[\"Daily Percent\"] = ((stocks[\"Close\"]-stocks[\"Open\"])/stocks[\"Open\"])*100"
   ]
  },
  {
   "cell_type": "code",
   "execution_count": 11,
   "metadata": {},
   "outputs": [],
   "source": [
    "stocks = pd.merge(stocks,stock_company, on=\"Ticker\")"
   ]
  },
  {
   "cell_type": "code",
   "execution_count": 12,
   "metadata": {},
   "outputs": [
    {
     "data": {
      "text/html": [
       "<div>\n",
       "<style scoped>\n",
       "    .dataframe tbody tr th:only-of-type {\n",
       "        vertical-align: middle;\n",
       "    }\n",
       "\n",
       "    .dataframe tbody tr th {\n",
       "        vertical-align: top;\n",
       "    }\n",
       "\n",
       "    .dataframe thead th {\n",
       "        text-align: right;\n",
       "    }\n",
       "</style>\n",
       "<table border=\"1\" class=\"dataframe\">\n",
       "  <thead>\n",
       "    <tr style=\"text-align: right;\">\n",
       "      <th></th>\n",
       "      <th>Ticker</th>\n",
       "      <th>Date</th>\n",
       "      <th>Open</th>\n",
       "      <th>Close</th>\n",
       "      <th>Daily Percent</th>\n",
       "      <th>Company Name</th>\n",
       "    </tr>\n",
       "  </thead>\n",
       "  <tbody>\n",
       "    <tr>\n",
       "      <th>19593</th>\n",
       "      <td>axp</td>\n",
       "      <td>1991-11-25</td>\n",
       "      <td>7.01110</td>\n",
       "      <td>6.98260</td>\n",
       "      <td>-0.406498</td>\n",
       "      <td>American Express</td>\n",
       "    </tr>\n",
       "    <tr>\n",
       "      <th>7605</th>\n",
       "      <td>aapl</td>\n",
       "      <td>1992-03-31</td>\n",
       "      <td>17.34400</td>\n",
       "      <td>17.36900</td>\n",
       "      <td>0.144142</td>\n",
       "      <td>Apple</td>\n",
       "    </tr>\n",
       "    <tr>\n",
       "      <th>180609</th>\n",
       "      <td>msft</td>\n",
       "      <td>2000-08-22</td>\n",
       "      <td>105.85000</td>\n",
       "      <td>107.57000</td>\n",
       "      <td>1.624941</td>\n",
       "      <td>Microsoft</td>\n",
       "    </tr>\n",
       "    <tr>\n",
       "      <th>205782</th>\n",
       "      <td>pg</td>\n",
       "      <td>1988-11-08</td>\n",
       "      <td>3.51590</td>\n",
       "      <td>3.52410</td>\n",
       "      <td>0.233226</td>\n",
       "      <td>Proctor &amp; Gamble</td>\n",
       "    </tr>\n",
       "    <tr>\n",
       "      <th>193029</th>\n",
       "      <td>pfe</td>\n",
       "      <td>1986-03-04</td>\n",
       "      <td>0.27487</td>\n",
       "      <td>0.27487</td>\n",
       "      <td>0.000000</td>\n",
       "      <td>Pfizer</td>\n",
       "    </tr>\n",
       "    <tr>\n",
       "      <th>123604</th>\n",
       "      <td>jnj</td>\n",
       "      <td>2017-10-18</td>\n",
       "      <td>107.62000</td>\n",
       "      <td>107.80000</td>\n",
       "      <td>0.167255</td>\n",
       "      <td>Johnson &amp; Johnson</td>\n",
       "    </tr>\n",
       "    <tr>\n",
       "      <th>32268</th>\n",
       "      <td>ba</td>\n",
       "      <td>1996-04-30</td>\n",
       "      <td>6.77640</td>\n",
       "      <td>6.76010</td>\n",
       "      <td>-0.240541</td>\n",
       "      <td>Boeing</td>\n",
       "    </tr>\n",
       "    <tr>\n",
       "      <th>263294</th>\n",
       "      <td>wba</td>\n",
       "      <td>2001-01-18</td>\n",
       "      <td>40.16800</td>\n",
       "      <td>39.38000</td>\n",
       "      <td>-1.961761</td>\n",
       "      <td>Walgreens</td>\n",
       "    </tr>\n",
       "    <tr>\n",
       "      <th>98838</th>\n",
       "      <td>hd</td>\n",
       "      <td>2009-06-12</td>\n",
       "      <td>42.78800</td>\n",
       "      <td>43.36400</td>\n",
       "      <td>1.346172</td>\n",
       "      <td>Home Depot</td>\n",
       "    </tr>\n",
       "    <tr>\n",
       "      <th>104261</th>\n",
       "      <td>ibm</td>\n",
       "      <td>1983-01-27</td>\n",
       "      <td>3.23370</td>\n",
       "      <td>3.33380</td>\n",
       "      <td>3.095525</td>\n",
       "      <td>IBM</td>\n",
       "    </tr>\n",
       "    <tr>\n",
       "      <th>183392</th>\n",
       "      <td>msft</td>\n",
       "      <td>2011-09-19</td>\n",
       "      <td>96.80900</td>\n",
       "      <td>96.34200</td>\n",
       "      <td>-0.482393</td>\n",
       "      <td>Microsoft</td>\n",
       "    </tr>\n",
       "    <tr>\n",
       "      <th>182911</th>\n",
       "      <td>msft</td>\n",
       "      <td>2009-10-21</td>\n",
       "      <td>168.92000</td>\n",
       "      <td>163.50000</td>\n",
       "      <td>-3.208619</td>\n",
       "      <td>Microsoft</td>\n",
       "    </tr>\n",
       "    <tr>\n",
       "      <th>113166</th>\n",
       "      <td>intc</td>\n",
       "      <td>1986-01-10</td>\n",
       "      <td>1.13370</td>\n",
       "      <td>1.13370</td>\n",
       "      <td>0.000000</td>\n",
       "      <td>Intel</td>\n",
       "    </tr>\n",
       "    <tr>\n",
       "      <th>96794</th>\n",
       "      <td>hd</td>\n",
       "      <td>2001-04-25</td>\n",
       "      <td>50.53700</td>\n",
       "      <td>50.86500</td>\n",
       "      <td>0.649029</td>\n",
       "      <td>Home Depot</td>\n",
       "    </tr>\n",
       "    <tr>\n",
       "      <th>73756</th>\n",
       "      <td>dis</td>\n",
       "      <td>2005-09-26</td>\n",
       "      <td>21.27500</td>\n",
       "      <td>21.19000</td>\n",
       "      <td>-0.399530</td>\n",
       "      <td>Disney</td>\n",
       "    </tr>\n",
       "    <tr>\n",
       "      <th>158588</th>\n",
       "      <td>mmm</td>\n",
       "      <td>1979-09-26</td>\n",
       "      <td>2.59960</td>\n",
       "      <td>2.59960</td>\n",
       "      <td>0.000000</td>\n",
       "      <td>3M</td>\n",
       "    </tr>\n",
       "    <tr>\n",
       "      <th>252456</th>\n",
       "      <td>v</td>\n",
       "      <td>2016-08-17</td>\n",
       "      <td>81.22400</td>\n",
       "      <td>81.22400</td>\n",
       "      <td>0.000000</td>\n",
       "      <td>Visa</td>\n",
       "    </tr>\n",
       "    <tr>\n",
       "      <th>181949</th>\n",
       "      <td>msft</td>\n",
       "      <td>2005-12-23</td>\n",
       "      <td>116.68000</td>\n",
       "      <td>116.83000</td>\n",
       "      <td>0.128557</td>\n",
       "      <td>Microsoft</td>\n",
       "    </tr>\n",
       "    <tr>\n",
       "      <th>218267</th>\n",
       "      <td>trv</td>\n",
       "      <td>2010-10-05</td>\n",
       "      <td>17.98700</td>\n",
       "      <td>18.16900</td>\n",
       "      <td>1.011842</td>\n",
       "      <td>Travelers Companies</td>\n",
       "    </tr>\n",
       "    <tr>\n",
       "      <th>94139</th>\n",
       "      <td>hd</td>\n",
       "      <td>1990-10-17</td>\n",
       "      <td>18.76500</td>\n",
       "      <td>18.91800</td>\n",
       "      <td>0.815348</td>\n",
       "      <td>Home Depot</td>\n",
       "    </tr>\n",
       "  </tbody>\n",
       "</table>\n",
       "</div>"
      ],
      "text/plain": [
       "       Ticker        Date       Open      Close  Daily Percent  \\\n",
       "19593     axp  1991-11-25    7.01110    6.98260      -0.406498   \n",
       "7605     aapl  1992-03-31   17.34400   17.36900       0.144142   \n",
       "180609   msft  2000-08-22  105.85000  107.57000       1.624941   \n",
       "205782     pg  1988-11-08    3.51590    3.52410       0.233226   \n",
       "193029    pfe  1986-03-04    0.27487    0.27487       0.000000   \n",
       "123604    jnj  2017-10-18  107.62000  107.80000       0.167255   \n",
       "32268      ba  1996-04-30    6.77640    6.76010      -0.240541   \n",
       "263294    wba  2001-01-18   40.16800   39.38000      -1.961761   \n",
       "98838      hd  2009-06-12   42.78800   43.36400       1.346172   \n",
       "104261    ibm  1983-01-27    3.23370    3.33380       3.095525   \n",
       "183392   msft  2011-09-19   96.80900   96.34200      -0.482393   \n",
       "182911   msft  2009-10-21  168.92000  163.50000      -3.208619   \n",
       "113166   intc  1986-01-10    1.13370    1.13370       0.000000   \n",
       "96794      hd  2001-04-25   50.53700   50.86500       0.649029   \n",
       "73756     dis  2005-09-26   21.27500   21.19000      -0.399530   \n",
       "158588    mmm  1979-09-26    2.59960    2.59960       0.000000   \n",
       "252456      v  2016-08-17   81.22400   81.22400       0.000000   \n",
       "181949   msft  2005-12-23  116.68000  116.83000       0.128557   \n",
       "218267    trv  2010-10-05   17.98700   18.16900       1.011842   \n",
       "94139      hd  1990-10-17   18.76500   18.91800       0.815348   \n",
       "\n",
       "               Company Name  \n",
       "19593      American Express  \n",
       "7605                  Apple  \n",
       "180609            Microsoft  \n",
       "205782     Proctor & Gamble  \n",
       "193029               Pfizer  \n",
       "123604    Johnson & Johnson  \n",
       "32268                Boeing  \n",
       "263294            Walgreens  \n",
       "98838            Home Depot  \n",
       "104261                  IBM  \n",
       "183392            Microsoft  \n",
       "182911            Microsoft  \n",
       "113166                Intel  \n",
       "96794            Home Depot  \n",
       "73756                Disney  \n",
       "158588                   3M  \n",
       "252456                 Visa  \n",
       "181949            Microsoft  \n",
       "218267  Travelers Companies  \n",
       "94139            Home Depot  "
      ]
     },
     "execution_count": 12,
     "metadata": {},
     "output_type": "execute_result"
    }
   ],
   "source": [
    "stocks.sample(20)"
   ]
  },
  {
   "cell_type": "markdown",
   "metadata": {},
   "source": [
    "## Load Stocks"
   ]
  },
  {
   "cell_type": "code",
   "execution_count": 13,
   "metadata": {},
   "outputs": [],
   "source": [
    "stock_data='stocks.csv'\n",
    "\n",
    "stocks.to_csv(stock_data)"
   ]
  },
  {
   "cell_type": "code",
   "execution_count": 16,
   "metadata": {},
   "outputs": [
    {
     "data": {
      "text/plain": [
       "<pymongo.results.InsertManyResult at 0x122c6f148>"
      ]
     },
     "execution_count": 16,
     "metadata": {},
     "output_type": "execute_result"
    }
   ],
   "source": [
    "client = pymongo.MongoClient('localhost', 27017)\n",
    "mng_db = client['FinanceDB'] \n",
    "collection_name = 'Stock_Data' \n",
    "db = mng_db[collection_name]\n",
    "\n",
    "data = pd.read_csv(stock_data)\n",
    "data_json = json.loads(data.to_json(orient='records'))\n",
    "db.insert_many(data_json)"
   ]
  },
  {
   "cell_type": "code",
   "execution_count": null,
   "metadata": {},
   "outputs": [],
   "source": []
  }
 ],
 "metadata": {
  "kernelspec": {
   "display_name": "Python [conda env:PythonData] *",
   "language": "python",
   "name": "conda-env-PythonData-py"
  },
  "language_info": {
   "codemirror_mode": {
    "name": "ipython",
    "version": 3
   },
   "file_extension": ".py",
   "mimetype": "text/x-python",
   "name": "python",
   "nbconvert_exporter": "python",
   "pygments_lexer": "ipython3",
   "version": "3.6.10"
  }
 },
 "nbformat": 4,
 "nbformat_minor": 4
}
